{
  "nbformat": 4,
  "nbformat_minor": 0,
  "metadata": {
    "colab": {
      "provenance": [],
      "authorship_tag": "ABX9TyPiD4RqaLX6zxeP4sbqxuh3",
      "include_colab_link": true
    },
    "kernelspec": {
      "name": "python3",
      "display_name": "Python 3"
    },
    "language_info": {
      "name": "python"
    }
  },
  "cells": [
    {
      "cell_type": "markdown",
      "metadata": {
        "id": "view-in-github",
        "colab_type": "text"
      },
      "source": [
        "<a href=\"https://colab.research.google.com/github/alvinh13/cell_classification/blob/main/tumor_classification_ENetV2_2025_04_10.ipynb\" target=\"_parent\"><img src=\"https://colab.research.google.com/assets/colab-badge.svg\" alt=\"Open In Colab\"/></a>"
      ]
    },
    {
      "cell_type": "code",
      "execution_count": 68,
      "metadata": {
        "colab": {
          "base_uri": "https://localhost:8080/"
        },
        "id": "sXE2K32gD8P5",
        "outputId": "9cd279a3-492d-4769-bd05-5e63dbffe89f"
      },
      "outputs": [
        {
          "output_type": "stream",
          "name": "stdout",
          "text": [
            "Cloning into 'cell_classification'...\n",
            "remote: Enumerating objects: 253, done.\u001b[K\n",
            "remote: Counting objects: 100% (103/103), done.\u001b[K\n",
            "remote: Compressing objects: 100% (103/103), done.\u001b[K\n",
            "remote: Total 253 (delta 61), reused 0 (delta 0), pack-reused 150 (from 1)\u001b[K\n",
            "Receiving objects: 100% (253/253), 2.18 MiB | 11.12 MiB/s, done.\n",
            "Resolving deltas: 100% (125/125), done.\n"
          ]
        }
      ],
      "source": [
        "!git clone https://github.com/alvinh13/cell_classification.git"
      ]
    },
    {
      "cell_type": "code",
      "source": [
        "%cd cell_classification"
      ],
      "metadata": {
        "colab": {
          "base_uri": "https://localhost:8080/"
        },
        "id": "WHhbF4JXEk7Q",
        "outputId": "e50c8ea9-5dac-417e-c336-a64ddeebfc3f"
      },
      "execution_count": 69,
      "outputs": [
        {
          "output_type": "stream",
          "name": "stdout",
          "text": [
            "/content/cell_classification/cell_classification/cell_classification/cell_classification/cell_classification/cell_classification/cell_classification/cell_classification/cell_classification/cell_classification/cell_classification/cell_classification/cell_classification/cell_classification/cell_classification/cell_classification/cell_classification/cell_classification/cell_classification/cell_classification/cell_classification/cell_classification/cell_classification\n"
          ]
        }
      ]
    },
    {
      "cell_type": "code",
      "source": [
        "!ls"
      ],
      "metadata": {
        "colab": {
          "base_uri": "https://localhost:8080/"
        },
        "id": "1dgMuUR0EohW",
        "outputId": "86354188-b0fa-4569-eb38-2ec0c4b36c9f"
      },
      "execution_count": 70,
      "outputs": [
        {
          "output_type": "stream",
          "name": "stdout",
          "text": [
            "ENetV2_classifier.ipynb  funcs.py  README.md  ResNet_classifier.ipynb  split_dataset.ipynb\n"
          ]
        }
      ]
    },
    {
      "cell_type": "code",
      "source": [
        "%cd cell_classification"
      ],
      "metadata": {
        "colab": {
          "base_uri": "https://localhost:8080/"
        },
        "id": "z1D6n-L3FWAS",
        "outputId": "50a313b4-afa2-4eb5-bff5-703ce20597d1"
      },
      "execution_count": 71,
      "outputs": [
        {
          "output_type": "stream",
          "name": "stdout",
          "text": [
            "[Errno 2] No such file or directory: 'cell_classification'\n",
            "/content/cell_classification/cell_classification/cell_classification/cell_classification/cell_classification/cell_classification/cell_classification/cell_classification/cell_classification/cell_classification/cell_classification/cell_classification/cell_classification/cell_classification/cell_classification/cell_classification/cell_classification/cell_classification/cell_classification/cell_classification/cell_classification/cell_classification/cell_classification\n"
          ]
        }
      ]
    },
    {
      "cell_type": "code",
      "source": [
        "!git clone https://github.com/alvinh13/cell_classification.git\n",
        "%cd cell_classification\n"
      ],
      "metadata": {
        "colab": {
          "base_uri": "https://localhost:8080/"
        },
        "id": "EXxjPDKxF36j",
        "outputId": "c250dba4-f2e1-4ca7-91ea-72de3597175c"
      },
      "execution_count": 72,
      "outputs": [
        {
          "output_type": "stream",
          "name": "stdout",
          "text": [
            "Cloning into 'cell_classification'...\n",
            "remote: Enumerating objects: 253, done.\u001b[K\n",
            "remote: Counting objects: 100% (103/103), done.\u001b[K\n",
            "remote: Compressing objects: 100% (103/103), done.\u001b[K\n",
            "remote: Total 253 (delta 61), reused 0 (delta 0), pack-reused 150 (from 1)\u001b[K\n",
            "Receiving objects: 100% (253/253), 2.18 MiB | 12.14 MiB/s, done.\n",
            "Resolving deltas: 100% (125/125), done.\n",
            "/content/cell_classification/cell_classification/cell_classification/cell_classification/cell_classification/cell_classification/cell_classification/cell_classification/cell_classification/cell_classification/cell_classification/cell_classification/cell_classification/cell_classification/cell_classification/cell_classification/cell_classification/cell_classification/cell_classification/cell_classification/cell_classification/cell_classification/cell_classification/cell_classification\n"
          ]
        }
      ]
    },
    {
      "cell_type": "code",
      "source": [
        "!ls"
      ],
      "metadata": {
        "colab": {
          "base_uri": "https://localhost:8080/"
        },
        "id": "0-gWfhSRF8Rq",
        "outputId": "5d774af7-1fe9-4d4d-ad46-8ea4521190d0"
      },
      "execution_count": 73,
      "outputs": [
        {
          "output_type": "stream",
          "name": "stdout",
          "text": [
            "ENetV2_classifier.ipynb  funcs.py  README.md  ResNet_classifier.ipynb  split_dataset.ipynb\n"
          ]
        }
      ]
    },
    {
      "cell_type": "code",
      "source": [
        "!git clone https://github.com/alvinh13/cell_classification.git\n",
        "%cd cell_classification\n"
      ],
      "metadata": {
        "colab": {
          "base_uri": "https://localhost:8080/"
        },
        "id": "WlIJUMfpIOKy",
        "outputId": "a793e64c-55de-4f70-b164-9c47394964a5"
      },
      "execution_count": 74,
      "outputs": [
        {
          "output_type": "stream",
          "name": "stdout",
          "text": [
            "Cloning into 'cell_classification'...\n",
            "remote: Enumerating objects: 253, done.\u001b[K\n",
            "remote: Counting objects: 100% (103/103), done.\u001b[K\n",
            "remote: Compressing objects: 100% (103/103), done.\u001b[K\n",
            "remote: Total 253 (delta 61), reused 0 (delta 0), pack-reused 150 (from 1)\u001b[K\n",
            "Receiving objects: 100% (253/253), 2.18 MiB | 13.30 MiB/s, done.\n",
            "Resolving deltas: 100% (125/125), done.\n",
            "/content/cell_classification/cell_classification/cell_classification/cell_classification/cell_classification/cell_classification/cell_classification/cell_classification/cell_classification/cell_classification/cell_classification/cell_classification/cell_classification/cell_classification/cell_classification/cell_classification/cell_classification/cell_classification/cell_classification/cell_classification/cell_classification/cell_classification/cell_classification/cell_classification/cell_classification\n"
          ]
        }
      ]
    },
    {
      "cell_type": "code",
      "source": [
        "!rm -rf cell_classification  # remove old clone if exists\n",
        "!git clone https://github.com/alvinh13/cell_classification.git\n",
        "%cd cell_classification\n"
      ],
      "metadata": {
        "colab": {
          "base_uri": "https://localhost:8080/"
        },
        "id": "fDUq1mNoIqty",
        "outputId": "f2aeb2a9-4ecc-473e-bbe2-acf8bb91af79"
      },
      "execution_count": 75,
      "outputs": [
        {
          "output_type": "stream",
          "name": "stdout",
          "text": [
            "Cloning into 'cell_classification'...\n",
            "remote: Enumerating objects: 253, done.\u001b[K\n",
            "remote: Counting objects: 100% (103/103), done.\u001b[K\n",
            "remote: Compressing objects: 100% (103/103), done.\u001b[K\n",
            "remote: Total 253 (delta 61), reused 0 (delta 0), pack-reused 150 (from 1)\u001b[K\n",
            "Receiving objects: 100% (253/253), 2.18 MiB | 13.71 MiB/s, done.\n",
            "Resolving deltas: 100% (125/125), done.\n",
            "/content/cell_classification/cell_classification/cell_classification/cell_classification/cell_classification/cell_classification/cell_classification/cell_classification/cell_classification/cell_classification/cell_classification/cell_classification/cell_classification/cell_classification/cell_classification/cell_classification/cell_classification/cell_classification/cell_classification/cell_classification/cell_classification/cell_classification/cell_classification/cell_classification/cell_classification/cell_classification\n"
          ]
        }
      ]
    },
    {
      "cell_type": "code",
      "source": [
        "!ls"
      ],
      "metadata": {
        "colab": {
          "base_uri": "https://localhost:8080/"
        },
        "id": "zAX9uVSdIw_m",
        "outputId": "8c007b50-59e3-427f-b1f7-82153cbfac21"
      },
      "execution_count": 76,
      "outputs": [
        {
          "output_type": "stream",
          "name": "stdout",
          "text": [
            "ENetV2_classifier.ipynb  funcs.py  README.md  ResNet_classifier.ipynb  split_dataset.ipynb\n"
          ]
        }
      ]
    },
    {
      "cell_type": "code",
      "source": [
        "!ls"
      ],
      "metadata": {
        "colab": {
          "base_uri": "https://localhost:8080/"
        },
        "id": "BoAdhZ-BLGUz",
        "outputId": "ca071010-2abc-4756-fc6b-50d791a187d2"
      },
      "execution_count": 77,
      "outputs": [
        {
          "output_type": "stream",
          "name": "stdout",
          "text": [
            "ENetV2_classifier.ipynb  funcs.py  README.md  ResNet_classifier.ipynb  split_dataset.ipynb\n"
          ]
        }
      ]
    }
  ]
}